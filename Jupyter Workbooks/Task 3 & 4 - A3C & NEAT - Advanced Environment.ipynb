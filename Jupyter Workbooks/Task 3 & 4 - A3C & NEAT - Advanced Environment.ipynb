{
 "cells": [
  {
   "cell_type": "code",
   "execution_count": 2,
   "metadata": {},
   "outputs": [],
   "source": [
    "import torch\n",
    "import torch.multiprocessing as mp\n",
    "from adv_env import *\n",
    "from adv_game import AdvGame\n",
    "import torch.nn.functional as F\n",
    "from a3c_net_2_layer import A3CNet\n",
    "from a3c_net_1_layer import Net\n",
    "from statistics import mean, stdev, median, mode\n",
    "import seaborn as sns\n",
    "import pandas as pd\n",
    "from a3c_funcs import *\n",
    "import pickle\n",
    "import numpy as np\n",
    "import neat\n",
    "import random"
   ]
  },
  {
   "cell_type": "markdown",
   "metadata": {},
   "source": [
    "!! N.B. Neither A3C nor NEAT are trained in this file.\n",
    "- This was due to multiprocessing on various threads not working well within Jupyter Notebooks.\n",
    "- If you want to re-run the training please use the following commands from the command line/ anaconda:\n",
    "        - python a3c_main.py\n",
    "        - python neat_main.py"
   ]
  },
  {
   "cell_type": "markdown",
   "metadata": {},
   "source": [
    "# Creating the Advanced Environment:"
   ]
  },
  {
   "cell_type": "code",
   "execution_count": 3,
   "metadata": {},
   "outputs": [],
   "source": [
    "def create_adv_env(damage, all_moves):\n",
    "    types_file = 'type_advs.csv'\n",
    "    moves_file = 'AdvEnvData/selected_moves.csv'\n",
    "    poke_file = 'AdvEnvData/selected_poke_data.csv'\n",
    "    trainer_file = 'AdvEnvData/selected_trainers.csv'\n",
    "    cpu_damage_enabled = damage\n",
    "    cpu_all_moves = all_moves\n",
    "    game = AdvGame(\"Ash\", \"Elite_four\", poke_file, trainer_file,\n",
    "                moves_file, types_file, cpu_damage_enabled, cpu_all_moves)\n",
    "\n",
    "    return Adv_env(game)"
   ]
  },
  {
   "cell_type": "code",
   "execution_count": 4,
   "metadata": {},
   "outputs": [],
   "source": [
    "# Creating Environment:\n",
    "adv_env = create_adv_env(True, False)"
   ]
  },
  {
   "cell_type": "markdown",
   "metadata": {},
   "source": [
    "# Functions to Run One Episode in Environment:"
   ]
  },
  {
   "cell_type": "markdown",
   "metadata": {},
   "source": [
    "- These will be used to test the trained models on 1,000 generated episodes further down in this notebook:"
   ]
  },
  {
   "cell_type": "code",
   "execution_count": 5,
   "metadata": {},
   "outputs": [],
   "source": [
    "def run_one_episode_random(env, verbose):\n",
    "    ob = env.reset()\n",
    "    done = False\n",
    "    while not done:\n",
    "        a_idx = random.randint(0,4)\n",
    "        move_pool = env.game.trainer_team[0].moves\n",
    "        action = move_pool[a_idx]\n",
    "        ob_nxt, r, done = env.move_turn(action, verbose)\n",
    "        ob = ob_nxt"
   ]
  },
  {
   "cell_type": "code",
   "execution_count": 6,
   "metadata": {},
   "outputs": [],
   "source": [
    "def run_one_episode_a3c(env, model, verbose):\n",
    "    ob = env.reset()\n",
    "    done = False\n",
    "    while not done:\n",
    "        a = model.choose_action(conv_np(ob[None, :]))\n",
    "        move_pool = env.game.trainer_team[0].moves\n",
    "        action = move_pool[a]\n",
    "        ob_nxt, r, done = env.move_turn(action, verbose)\n",
    "        ob = ob_nxt"
   ]
  },
  {
   "cell_type": "code",
   "execution_count": 7,
   "metadata": {},
   "outputs": [],
   "source": [
    "def run_one_episode_neat(env, model, verbose):\n",
    "    ob = env.reset()\n",
    "    done = False\n",
    "    while not done:\n",
    "        a_probs = model.activate(ob)\n",
    "        a_idx = np.argmax(a_probs)\n",
    "        move_pool = env.game.trainer_team[0].moves\n",
    "        action = move_pool[a_idx]\n",
    "        ob_nxt, r, done = env.move_turn(action, verbose)\n",
    "        ob = ob_nxt"
   ]
  },
  {
   "cell_type": "markdown",
   "metadata": {},
   "source": [
    "# Defining Models:"
   ]
  },
  {
   "cell_type": "markdown",
   "metadata": {},
   "source": [
    "# Trained A3C Model:"
   ]
  },
  {
   "cell_type": "code",
   "execution_count": 10,
   "metadata": {},
   "outputs": [],
   "source": [
    "# Building a blank 2 layer neural net, with the right input/output dimensions:\n",
    "a3c_trained = A3CNet(adv_obs_space, adv_actions_possible)"
   ]
  },
  {
   "cell_type": "code",
   "execution_count": 11,
   "metadata": {},
   "outputs": [],
   "source": [
    "# Loading the best saved model:\n",
    "model_state_dict = torch.load('Models/a3c_advanced_best.pt')"
   ]
  },
  {
   "cell_type": "code",
   "execution_count": 12,
   "metadata": {},
   "outputs": [
    {
     "data": {
      "text/plain": [
       "<All keys matched successfully>"
      ]
     },
     "execution_count": 12,
     "metadata": {},
     "output_type": "execute_result"
    }
   ],
   "source": [
    "# Loading the saved weights onto the blank neural net:\n",
    "a3c_trained.load_state_dict(model_state_dict)"
   ]
  },
  {
   "cell_type": "code",
   "execution_count": 16,
   "metadata": {
    "scrolled": false
   },
   "outputs": [],
   "source": [
    "# Un-comment this cell to see one episode run with a trained A3C model playing the game:\n",
    "#run_one_episode_a3c(adv_env, a3c_trained, True)"
   ]
  },
  {
   "cell_type": "markdown",
   "metadata": {},
   "source": [
    "# Trained NEAT Model:"
   ]
  },
  {
   "cell_type": "code",
   "execution_count": 17,
   "metadata": {},
   "outputs": [],
   "source": [
    "# Loading the configuration file specifying the NEAT hyperparameters:\n",
    "config = neat.Config(\n",
    "        neat.DefaultGenome,\n",
    "        neat.DefaultReproduction,\n",
    "        neat.DefaultSpeciesSet,\n",
    "        neat.DefaultStagnation,\n",
    "        'neat_config_adv.txt'\n",
    "    )"
   ]
  },
  {
   "cell_type": "code",
   "execution_count": 18,
   "metadata": {},
   "outputs": [],
   "source": [
    "# Loading the genomes saved in the best found model:\n",
    "genomes = pickle.load(open('Models/neat_advanced_best.pkl', 'rb'))"
   ]
  },
  {
   "cell_type": "code",
   "execution_count": 19,
   "metadata": {},
   "outputs": [],
   "source": [
    "# Using the saved genomes and config to load the model:\n",
    "neat_model = neat.nn.FeedForwardNetwork.create(genomes, config)"
   ]
  },
  {
   "cell_type": "code",
   "execution_count": 22,
   "metadata": {
    "scrolled": false
   },
   "outputs": [],
   "source": [
    "# Un-comment this cell to see one episode run with a trained NEAT model playing the game:\n",
    "#run_one_episode_neat(adv_env, neat_model, True)"
   ]
  },
  {
   "cell_type": "markdown",
   "metadata": {},
   "source": [
    "# Comparing 1000 Runs:"
   ]
  },
  {
   "cell_type": "markdown",
   "metadata": {},
   "source": [
    "## Random Model:"
   ]
  },
  {
   "cell_type": "code",
   "execution_count": 13,
   "metadata": {},
   "outputs": [],
   "source": [
    "reward_rand = []\n",
    "super_eff_rand = []\n",
    "hp_potions_rand = []\n",
    "    \n",
    "for i in range(1000):\n",
    "    run_one_episode_random(adv_env, False)\n",
    "    _, s_eff, _, hp, reward, _ = adv_env.game.get_metrics()\n",
    "    reward_rand.append(reward)\n",
    "    super_eff_rand.append(s_eff)\n",
    "    hp_potions_rand.append(hp)"
   ]
  },
  {
   "cell_type": "code",
   "execution_count": 45,
   "metadata": {},
   "outputs": [
    {
     "name": "stdout",
     "output_type": "stream",
     "text": [
      "11.2\n",
      "5.3829360018488055\n",
      "2.455\n",
      "1.775\n"
     ]
    }
   ],
   "source": [
    "print(mean(reward_rand))\n",
    "print(np.std(reward_rand))\n",
    "print(mean(super_eff_rand))\n",
    "print(mean(hp_potions_rand))"
   ]
  },
  {
   "cell_type": "markdown",
   "metadata": {},
   "source": [
    "## A3C Best Model:"
   ]
  },
  {
   "cell_type": "code",
   "execution_count": 103,
   "metadata": {},
   "outputs": [],
   "source": [
    "reward_a3c = []\n",
    "super_eff_a3c = []\n",
    "hp_potions_a3c = []\n",
    "    \n",
    "for i in range(1000):\n",
    "    run_one_episode_a3c(adv_env, a3c_trained, False)\n",
    "    _, s_eff, _, hp, reward, _ = adv_env.game.get_metrics()\n",
    "    reward_a3c.append(reward)\n",
    "    super_eff_a3c.append(s_eff)\n",
    "    hp_potions_a3c.append(hp)"
   ]
  },
  {
   "cell_type": "code",
   "execution_count": 46,
   "metadata": {},
   "outputs": [
    {
     "name": "stdout",
     "output_type": "stream",
     "text": [
      "440.55\n",
      "157.72113840573178\n",
      "292.294\n",
      "71.316\n"
     ]
    }
   ],
   "source": [
    "print(mean(reward_a3c))\n",
    "print(np.std(reward_a3c))\n",
    "print(mean(super_eff_a3c))\n",
    "print(mean(hp_potions_a3c))"
   ]
  },
  {
   "cell_type": "markdown",
   "metadata": {},
   "source": [
    "## NEAT Best Model:"
   ]
  },
  {
   "cell_type": "code",
   "execution_count": 100,
   "metadata": {},
   "outputs": [],
   "source": [
    "reward_neat = []\n",
    "super_eff_neat = []\n",
    "hp_potions_neat = []\n",
    "    \n",
    "for i in range(1000):\n",
    "    run_one_episode_neat(adv_env, neat_model, False)\n",
    "    _, s_eff, _, hp, reward, _ = adv_env.game.get_metrics()\n",
    "    reward_neat.append(reward)\n",
    "    super_eff_neat.append(s_eff)\n",
    "    hp_potions_neat.append(hp)"
   ]
  },
  {
   "cell_type": "code",
   "execution_count": 94,
   "metadata": {},
   "outputs": [
    {
     "name": "stdout",
     "output_type": "stream",
     "text": [
      "308.09\n",
      "204.0628871206129\n",
      "65.59\n",
      "50.33\n"
     ]
    }
   ],
   "source": [
    "print(mean(reward_neat))\n",
    "print(np.std(reward_neat))\n",
    "print(mean(super_eff_neat))\n",
    "print(mean(hp_potions_neat))"
   ]
  }
 ],
 "metadata": {
  "kernelspec": {
   "display_name": "Python 3",
   "language": "python",
   "name": "python3"
  },
  "language_info": {
   "codemirror_mode": {
    "name": "ipython",
    "version": 3
   },
   "file_extension": ".py",
   "mimetype": "text/x-python",
   "name": "python",
   "nbconvert_exporter": "python",
   "pygments_lexer": "ipython3",
   "version": "3.7.9"
  },
  "toc": {
   "base_numbering": 1,
   "nav_menu": {},
   "number_sections": true,
   "sideBar": true,
   "skip_h1_title": false,
   "title_cell": "Table of Contents",
   "title_sidebar": "Contents",
   "toc_cell": false,
   "toc_position": {},
   "toc_section_display": true,
   "toc_window_display": false
  }
 },
 "nbformat": 4,
 "nbformat_minor": 4
}
