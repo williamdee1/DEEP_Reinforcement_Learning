{
 "cells": [
  {
   "cell_type": "code",
   "execution_count": 1,
   "metadata": {},
   "outputs": [],
   "source": [
    "import torch\n",
    "import torch.multiprocessing as mp\n",
    "from extr_env import *\n",
    "from extr_game import ExtrGame\n",
    "import torch.nn.functional as F\n",
    "from a3c_net_2_layer import A3CNet\n",
    "from a3c_net_1_layer import Net\n",
    "from statistics import mean, stdev, median, mode\n",
    "import seaborn as sns\n",
    "import pandas as pd\n",
    "from a3c_funcs import *\n",
    "import pickle\n",
    "import neat\n",
    "import random"
   ]
  },
  {
   "cell_type": "markdown",
   "metadata": {},
   "source": [
    "!! N.B. Neither A3C nor NEAT are trained in this file.\n",
    "- This was due to multiprocessing on various threads not working well within Jupyter Notebooks.\n",
    "- If you want to re-run the training please use the following commands from the command line/ anaconda:\n",
    "        - python a3c_main.py\n",
    "        - python neat_main.py"
   ]
  },
  {
   "cell_type": "markdown",
   "metadata": {},
   "source": [
    "# Creating the Extreme Environment:"
   ]
  },
  {
   "cell_type": "code",
   "execution_count": 2,
   "metadata": {},
   "outputs": [],
   "source": [
    "def create_extr_env(damage, all_moves):\n",
    "    types_file = 'type_advs.csv'\n",
    "    moves_file = 'ExtrEnvData/selected_moves.csv'\n",
    "    poke_file = 'ExtrEnvData/selected_poke_data.csv'\n",
    "    trainer_file = 'ExtrEnvData/selected_trainers.csv'\n",
    "    cpu_damage_enabled = damage\n",
    "    cpu_all_moves = all_moves\n",
    "    game = ExtrGame(\"Ash_starters\", poke_file, trainer_file,\n",
    "                moves_file, types_file, cpu_damage_enabled, cpu_all_moves)\n",
    "\n",
    "    return Extr_env(game)"
   ]
  },
  {
   "cell_type": "code",
   "execution_count": 3,
   "metadata": {},
   "outputs": [],
   "source": [
    "# Creating Environment:\n",
    "extr_env = create_extr_env(True, True)"
   ]
  },
  {
   "cell_type": "markdown",
   "metadata": {},
   "source": [
    "# Functions to Run One Episode in Environment:"
   ]
  },
  {
   "cell_type": "code",
   "execution_count": 22,
   "metadata": {},
   "outputs": [],
   "source": [
    "def run_one_episode_random(env, verbose):\n",
    "    ob = env.reset()\n",
    "    done = False\n",
    "    while not done:\n",
    "        a_idx = random.randint(0,5)\n",
    "        move_pool = env.game.remaining_trainer_team[0].moves\n",
    "        action = move_pool[a_idx]\n",
    "        ob_nxt, r, done = env.move_turn(action, verbose)\n",
    "        ob = ob_nxt"
   ]
  },
  {
   "cell_type": "code",
   "execution_count": 4,
   "metadata": {},
   "outputs": [],
   "source": [
    "def run_one_episode_a3c(env, model, verbose):\n",
    "    obs = env.reset()\n",
    "    done = False\n",
    "    while not done:\n",
    "        a = model.choose_action(conv_np(obs[None, :]))\n",
    "        move_pool = env.game.remaining_trainer_team[0].moves\n",
    "        action = move_pool[a]\n",
    "        obs_nxt, r, done = env.move_turn(action, verbose)\n",
    "        obs = obs_nxt"
   ]
  },
  {
   "cell_type": "code",
   "execution_count": 17,
   "metadata": {},
   "outputs": [],
   "source": [
    "def run_one_episode_neat(env, model, verbose):\n",
    "    ob = env.reset()\n",
    "    done = False\n",
    "    while not done:\n",
    "        a_probs = model.activate(ob)\n",
    "        a_idx = np.argmax(a_probs)\n",
    "        move_pool = env.game.remaining_trainer_team[0].moves\n",
    "        action = move_pool[a_idx]\n",
    "        ob_nxt, r, done = env.move_turn(action, verbose)\n",
    "        ob = ob_nxt"
   ]
  },
  {
   "cell_type": "markdown",
   "metadata": {},
   "source": [
    "# Defining Models:"
   ]
  },
  {
   "cell_type": "markdown",
   "metadata": {},
   "source": [
    "## Trained A3C Model:"
   ]
  },
  {
   "cell_type": "code",
   "execution_count": 5,
   "metadata": {},
   "outputs": [],
   "source": [
    "# Building a blank 2 layer neural net, with the right input/output dimensions:\n",
    "a3c_trained = A3CNet(extr_obs_space, extr_actions_possible)"
   ]
  },
  {
   "cell_type": "code",
   "execution_count": 6,
   "metadata": {},
   "outputs": [],
   "source": [
    "# Loading the best saved model:\n",
    "model_state_dict = torch.load('Models/a3c_extreme_best.pt')"
   ]
  },
  {
   "cell_type": "code",
   "execution_count": 7,
   "metadata": {},
   "outputs": [
    {
     "data": {
      "text/plain": [
       "<All keys matched successfully>"
      ]
     },
     "execution_count": 7,
     "metadata": {},
     "output_type": "execute_result"
    }
   ],
   "source": [
    "# Loading the saved weights onto the blank neural net:\n",
    "a3c_trained.load_state_dict(model_state_dict)"
   ]
  },
  {
   "cell_type": "code",
   "execution_count": 31,
   "metadata": {
    "scrolled": true
   },
   "outputs": [],
   "source": [
    "# Un-comment this cell to see one episode run with a trained A3C model playing the game:\n",
    "#run_one_episode_a3c(extr_env, a3c_trained, True)"
   ]
  },
  {
   "cell_type": "markdown",
   "metadata": {},
   "source": [
    "## Trained NEAT Model:"
   ]
  },
  {
   "cell_type": "code",
   "execution_count": 13,
   "metadata": {},
   "outputs": [],
   "source": [
    "# Loading the configuration file specifying the NEAT hyperparameters:\n",
    "config = neat.Config(\n",
    "        neat.DefaultGenome,\n",
    "        neat.DefaultReproduction,\n",
    "        neat.DefaultSpeciesSet,\n",
    "        neat.DefaultStagnation,\n",
    "        'neat_config_extr.txt'\n",
    "    )"
   ]
  },
  {
   "cell_type": "code",
   "execution_count": 14,
   "metadata": {},
   "outputs": [],
   "source": [
    "# Loading the genomes saved in the best found model:\n",
    "genomes = pickle.load(open('Models/neat_extreme_best.pkl', 'rb'))"
   ]
  },
  {
   "cell_type": "code",
   "execution_count": 15,
   "metadata": {},
   "outputs": [],
   "source": [
    "# Using the saved genomes and config to load the model:\n",
    "neat_model = neat.nn.FeedForwardNetwork.create(genomes, config)"
   ]
  },
  {
   "cell_type": "code",
   "execution_count": 20,
   "metadata": {
    "scrolled": true
   },
   "outputs": [],
   "source": [
    "# Un-comment this cell to see one episode run with a trained NEAT model playing the game:\n",
    "#run_one_episode_neat(extr_env, neat_model, True)"
   ]
  },
  {
   "cell_type": "markdown",
   "metadata": {},
   "source": [
    "# Comparing 1000 Runs:"
   ]
  },
  {
   "cell_type": "markdown",
   "metadata": {},
   "source": [
    "## Random Policy Model:"
   ]
  },
  {
   "cell_type": "code",
   "execution_count": 15,
   "metadata": {},
   "outputs": [],
   "source": [
    "reward_rand = []\n",
    "super_eff_rand = []\n",
    "se_taken_rand = []\n",
    "t_beaten_rand = []\n",
    "switches_rand = []\n",
    "    \n",
    "for i in range(1000):\n",
    "    run_one_episode_random(extr_env, False)\n",
    "    reward, s_eff, se_taken, t_beaten, switch, _ = extr_env.game.get_metrics()\n",
    "    reward_rand.append(reward)\n",
    "    super_eff_rand.append(s_eff)\n",
    "    se_taken_rand.append(se_taken)\n",
    "    t_beaten_rand.append(t_beaten)\n",
    "    switches_rand.append(switch)"
   ]
  },
  {
   "cell_type": "code",
   "execution_count": 49,
   "metadata": {},
   "outputs": [
    {
     "name": "stdout",
     "output_type": "stream",
     "text": [
      "20.58\n",
      "9.40806037395594\n",
      "3.057\n",
      "2.256\n",
      "0.207\n",
      "4.081\n"
     ]
    }
   ],
   "source": [
    "print(mean(reward_rand))\n",
    "print(np.std(reward_rand))\n",
    "print(mean(super_eff_rand))\n",
    "print(mean(se_taken_rand))\n",
    "print(mean(t_beaten_rand))\n",
    "print(mean(switches_rand))"
   ]
  },
  {
   "cell_type": "markdown",
   "metadata": {},
   "source": [
    "## Trained A3C Model:"
   ]
  },
  {
   "cell_type": "code",
   "execution_count": 17,
   "metadata": {},
   "outputs": [],
   "source": [
    "reward_a3c = []\n",
    "super_eff_a3c = []\n",
    "se_taken_a3c = []\n",
    "t_beaten_a3c = []\n",
    "switches_a3c = []\n",
    "    \n",
    "for i in range(1000):\n",
    "    run_one_episode_a3c(extr_env, a3c_trained, False)\n",
    "    reward, s_eff, se_taken, t_beaten, switch, _ = extr_env.game.get_metrics()\n",
    "    reward_a3c.append(reward)\n",
    "    super_eff_a3c.append(s_eff)\n",
    "    se_taken_a3c.append(se_taken)\n",
    "    t_beaten_a3c.append(t_beaten)\n",
    "    switches_a3c.append(switch)"
   ]
  },
  {
   "cell_type": "code",
   "execution_count": 44,
   "metadata": {},
   "outputs": [
    {
     "name": "stdout",
     "output_type": "stream",
     "text": [
      "344.562\n",
      "170.1937429989716\n",
      "117.892\n",
      "44.459\n",
      "24.98\n",
      "17.966\n"
     ]
    }
   ],
   "source": [
    "print(mean(reward_a3c))\n",
    "print(np.std(reward_a3c))\n",
    "print(mean(super_eff_a3c))\n",
    "print(mean(se_taken_a3c))\n",
    "print(mean(t_beaten_a3c))\n",
    "print(mean(switches_a3c))"
   ]
  },
  {
   "cell_type": "markdown",
   "metadata": {},
   "source": [
    "## Trained NEAT Model:"
   ]
  },
  {
   "cell_type": "code",
   "execution_count": 76,
   "metadata": {},
   "outputs": [],
   "source": [
    "reward_neat = []\n",
    "super_eff_neat = []\n",
    "se_taken_neat = []\n",
    "t_beaten_neat = []\n",
    "switches_neat = []\n",
    "    \n",
    "for i in range(1000):\n",
    "    run_one_episode_neat(extr_env, neat_model, False)\n",
    "    reward, s_eff, se_taken, t_beaten, switch, _ = extr_env.game.get_metrics()\n",
    "    reward_neat.append(reward)\n",
    "    super_eff_neat.append(s_eff)\n",
    "    se_taken_neat.append(se_taken)\n",
    "    t_beaten_neat.append(t_beaten)\n",
    "    switches_neat.append(switch)"
   ]
  },
  {
   "cell_type": "code",
   "execution_count": 77,
   "metadata": {},
   "outputs": [
    {
     "name": "stdout",
     "output_type": "stream",
     "text": [
      "61.901\n",
      "54.31558891331291\n",
      "7.926\n",
      "6.69\n",
      "3.277\n",
      "0\n"
     ]
    }
   ],
   "source": [
    "print(mean(reward_neat))\n",
    "print(np.std(reward_neat))\n",
    "print(mean(super_eff_neat))\n",
    "print(mean(se_taken_neat))\n",
    "print(mean(t_beaten_neat))\n",
    "print(mean(switches_neat))"
   ]
  }
 ],
 "metadata": {
  "kernelspec": {
   "display_name": "Python 3",
   "language": "python",
   "name": "python3"
  },
  "language_info": {
   "codemirror_mode": {
    "name": "ipython",
    "version": 3
   },
   "file_extension": ".py",
   "mimetype": "text/x-python",
   "name": "python",
   "nbconvert_exporter": "python",
   "pygments_lexer": "ipython3",
   "version": "3.7.9"
  },
  "toc": {
   "base_numbering": 1,
   "nav_menu": {},
   "number_sections": true,
   "sideBar": true,
   "skip_h1_title": false,
   "title_cell": "Table of Contents",
   "title_sidebar": "Contents",
   "toc_cell": false,
   "toc_position": {},
   "toc_section_display": true,
   "toc_window_display": false
  }
 },
 "nbformat": 4,
 "nbformat_minor": 4
}
